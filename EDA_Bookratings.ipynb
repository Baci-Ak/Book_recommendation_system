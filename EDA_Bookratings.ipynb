{
 "cells": [
  {
   "cell_type": "code",
   "execution_count": null,
   "id": "9ecc3398",
   "metadata": {},
   "outputs": [],
   "source": []
  },
  {
   "cell_type": "code",
   "execution_count": 1,
   "id": "c002debf",
   "metadata": {},
   "outputs": [],
   "source": [
    "import numpy as np\n",
    "\n",
    "#i import pandas for data anlysis and manipulations\n",
    "import pandas as pd\n",
    "\n",
    "#matplotlib library for plotting 2D graphics\n",
    "import matplotlib.pyplot as plt"
   ]
  },
  {
   "cell_type": "code",
   "execution_count": null,
   "id": "7b173c66",
   "metadata": {},
   "outputs": [],
   "source": []
  },
  {
   "cell_type": "code",
   "execution_count": 2,
   "id": "679b1cae",
   "metadata": {},
   "outputs": [],
   "source": [
    "#importing the book ratings dataframe from the load_dataset module i created\n",
    "\n",
    "\n",
    "from Nifi_joint_loaddata_module import loaddataset\n",
    "\n",
    "\n",
    "\n",
    "#calling the loaddataset class from the module\n",
    "\n",
    "dataset = loaddataset('ratings', 'books', 'users', 'book_ratings2')"
   ]
  },
  {
   "cell_type": "code",
   "execution_count": null,
   "id": "0537f687",
   "metadata": {},
   "outputs": [],
   "source": []
  },
  {
   "cell_type": "code",
   "execution_count": 3,
   "id": "80602147",
   "metadata": {},
   "outputs": [
    {
     "data": {
      "text/html": [
       "<div>\n",
       "<style scoped>\n",
       "    .dataframe tbody tr th:only-of-type {\n",
       "        vertical-align: middle;\n",
       "    }\n",
       "\n",
       "    .dataframe tbody tr th {\n",
       "        vertical-align: top;\n",
       "    }\n",
       "\n",
       "    .dataframe thead th {\n",
       "        text-align: right;\n",
       "    }\n",
       "</style>\n",
       "<table border=\"1\" class=\"dataframe\">\n",
       "  <thead>\n",
       "    <tr style=\"text-align: right;\">\n",
       "      <th></th>\n",
       "      <th>user_id</th>\n",
       "      <th>book_id</th>\n",
       "      <th>bookrating</th>\n",
       "      <th>booktittle</th>\n",
       "      <th>book_author</th>\n",
       "      <th>year_of_pub</th>\n",
       "    </tr>\n",
       "  </thead>\n",
       "  <tbody>\n",
       "    <tr>\n",
       "      <th>0</th>\n",
       "      <td>276725</td>\n",
       "      <td>034545104X</td>\n",
       "      <td>0</td>\n",
       "      <td>Flesh Tones: A Novel</td>\n",
       "      <td>M. J. Rose</td>\n",
       "      <td>2002</td>\n",
       "    </tr>\n",
       "    <tr>\n",
       "      <th>1</th>\n",
       "      <td>276726</td>\n",
       "      <td>0155061224</td>\n",
       "      <td>5</td>\n",
       "      <td>Rites of Passage</td>\n",
       "      <td>Judith Rae</td>\n",
       "      <td>2001</td>\n",
       "    </tr>\n",
       "    <tr>\n",
       "      <th>2</th>\n",
       "      <td>276727</td>\n",
       "      <td>0446520802</td>\n",
       "      <td>0</td>\n",
       "      <td>The Notebook</td>\n",
       "      <td>Nicholas Sparks</td>\n",
       "      <td>1996</td>\n",
       "    </tr>\n",
       "    <tr>\n",
       "      <th>3</th>\n",
       "      <td>276729</td>\n",
       "      <td>052165615X</td>\n",
       "      <td>3</td>\n",
       "      <td>Help!: Level 1</td>\n",
       "      <td>Philip Prowse</td>\n",
       "      <td>1999</td>\n",
       "    </tr>\n",
       "    <tr>\n",
       "      <th>4</th>\n",
       "      <td>276729</td>\n",
       "      <td>0521795028</td>\n",
       "      <td>6</td>\n",
       "      <td>The Amsterdam Connection : Level 4 (Cambridge ...</td>\n",
       "      <td>Sue Leather</td>\n",
       "      <td>2001</td>\n",
       "    </tr>\n",
       "  </tbody>\n",
       "</table>\n",
       "</div>"
      ],
      "text/plain": [
       "   user_id     book_id  bookrating  \\\n",
       "0   276725  034545104X           0   \n",
       "1   276726  0155061224           5   \n",
       "2   276727  0446520802           0   \n",
       "3   276729  052165615X           3   \n",
       "4   276729  0521795028           6   \n",
       "\n",
       "                                          booktittle      book_author  \\\n",
       "0                               Flesh Tones: A Novel       M. J. Rose   \n",
       "1                                   Rites of Passage       Judith Rae   \n",
       "2                                       The Notebook  Nicholas Sparks   \n",
       "3                                     Help!: Level 1    Philip Prowse   \n",
       "4  The Amsterdam Connection : Level 4 (Cambridge ...      Sue Leather   \n",
       "\n",
       "   year_of_pub  \n",
       "0         2002  \n",
       "1         2001  \n",
       "2         1996  \n",
       "3         1999  \n",
       "4         2001  "
      ]
     },
     "execution_count": 3,
     "metadata": {},
     "output_type": "execute_result"
    }
   ],
   "source": [
    "#calling the book_rating method of the loaddataset object to load the book rating dataframe\n",
    "df= dataset.get_book_ratings2()\n",
    "df.head()"
   ]
  },
  {
   "cell_type": "code",
   "execution_count": null,
   "id": "db8d3a02",
   "metadata": {},
   "outputs": [],
   "source": []
  },
  {
   "cell_type": "code",
   "execution_count": 32,
   "id": "e2e8808b",
   "metadata": {},
   "outputs": [
    {
     "data": {
      "text/plain": [
       "(1030994, 6)"
      ]
     },
     "execution_count": 32,
     "metadata": {},
     "output_type": "execute_result"
    }
   ],
   "source": [
    "df.shape"
   ]
  },
  {
   "cell_type": "code",
   "execution_count": 30,
   "id": "6f1e6ccb",
   "metadata": {},
   "outputs": [],
   "source": [
    "df = df.applymap(lambda x: np.nan if x == 'NA' else x)\n",
    "#df.head()"
   ]
  },
  {
   "cell_type": "code",
   "execution_count": null,
   "id": "afcf98b7",
   "metadata": {},
   "outputs": [],
   "source": []
  },
  {
   "cell_type": "code",
   "execution_count": 31,
   "id": "55d28a56",
   "metadata": {},
   "outputs": [
    {
     "data": {
      "text/plain": [
       "user_id        0\n",
       "book_id        0\n",
       "bookrating     0\n",
       "booktittle     0\n",
       "book_author    1\n",
       "year_of_pub    0\n",
       "dtype: int64"
      ]
     },
     "execution_count": 31,
     "metadata": {},
     "output_type": "execute_result"
    }
   ],
   "source": [
    "df.isna().sum()"
   ]
  },
  {
   "cell_type": "code",
   "execution_count": null,
   "id": "b07530f6",
   "metadata": {},
   "outputs": [],
   "source": []
  },
  {
   "cell_type": "markdown",
   "id": "84f9bbe3",
   "metadata": {},
   "source": [
    "# Check for total unique users and books"
   ]
  },
  {
   "cell_type": "code",
   "execution_count": 17,
   "id": "bb199292",
   "metadata": {},
   "outputs": [
    {
     "data": {
      "text/html": [
       "<div>\n",
       "<style scoped>\n",
       "    .dataframe tbody tr th:only-of-type {\n",
       "        vertical-align: middle;\n",
       "    }\n",
       "\n",
       "    .dataframe tbody tr th {\n",
       "        vertical-align: top;\n",
       "    }\n",
       "\n",
       "    .dataframe thead th {\n",
       "        text-align: right;\n",
       "    }\n",
       "</style>\n",
       "<table border=\"1\" class=\"dataframe\">\n",
       "  <thead>\n",
       "    <tr style=\"text-align: right;\">\n",
       "      <th></th>\n",
       "      <th>Total Unique Users</th>\n",
       "      <th>Total Unique Book IDs</th>\n",
       "      <th>Total Unique Book Titles</th>\n",
       "      <th>Total Unique Book Authors</th>\n",
       "      <th>Total Unique Years of Publication</th>\n",
       "    </tr>\n",
       "  </thead>\n",
       "  <tbody>\n",
       "    <tr>\n",
       "      <th>0</th>\n",
       "      <td>92099</td>\n",
       "      <td>270125</td>\n",
       "      <td>241041</td>\n",
       "      <td>101574</td>\n",
       "      <td>116</td>\n",
       "    </tr>\n",
       "  </tbody>\n",
       "</table>\n",
       "</div>"
      ],
      "text/plain": [
       "   Total Unique Users  Total Unique Book IDs  Total Unique Book Titles  \\\n",
       "0               92099                 270125                    241041   \n",
       "\n",
       "   Total Unique Book Authors  Total Unique Years of Publication  \n",
       "0                     101574                                116  "
      ]
     },
     "execution_count": 17,
     "metadata": {},
     "output_type": "execute_result"
    }
   ],
   "source": [
    "\n",
    "\n",
    "# Get the total unique users\n",
    "total_unique_users = df['user_id'].nunique()\n",
    "\n",
    "# Get the total unique book IDs\n",
    "total_unique_book_ids = df['book_id'].nunique()\n",
    "\n",
    "# Get the total unique book titles\n",
    "total_unique_book_titles = df['booktittle'].nunique()\n",
    "\n",
    "# Get the total unique book authors\n",
    "total_unique_book_authors = df['book_author'].nunique()\n",
    "\n",
    "# Get the total unique years of publication\n",
    "total_unique_years_of_pub = df['year_of_pub'].nunique()\n",
    "\n",
    "# Create a DataFrame to store the unique total counts\n",
    "unique_counts_df = pd.DataFrame({\n",
    "    'Total Unique Users': [total_unique_users],\n",
    "    'Total Unique Book IDs': [total_unique_book_ids],\n",
    "    'Total Unique Book Titles': [total_unique_book_titles],\n",
    "    'Total Unique Book Authors': [total_unique_book_authors],\n",
    "    'Total Unique Years of Publication': [total_unique_years_of_pub]\n",
    "})\n",
    "\n",
    "\n",
    "unique_counts_df"
   ]
  },
  {
   "cell_type": "code",
   "execution_count": null,
   "id": "3d687fe2",
   "metadata": {},
   "outputs": [],
   "source": []
  },
  {
   "cell_type": "code",
   "execution_count": null,
   "id": "0d6d45dc",
   "metadata": {},
   "outputs": [],
   "source": []
  },
  {
   "cell_type": "markdown",
   "id": "199aab6d",
   "metadata": {},
   "source": [
    "# check for Null values"
   ]
  },
  {
   "cell_type": "code",
   "execution_count": 18,
   "id": "297ab011",
   "metadata": {},
   "outputs": [
    {
     "data": {
      "text/plain": [
       "user_id        0\n",
       "book_id        0\n",
       "bookrating     0\n",
       "booktittle     0\n",
       "book_author    1\n",
       "year_of_pub    0\n",
       "dtype: int64"
      ]
     },
     "execution_count": 18,
     "metadata": {},
     "output_type": "execute_result"
    }
   ],
   "source": [
    "missing_values = df.isnull().sum()\n",
    "missing_values"
   ]
  },
  {
   "cell_type": "code",
   "execution_count": null,
   "id": "10857b75",
   "metadata": {},
   "outputs": [],
   "source": []
  },
  {
   "cell_type": "code",
   "execution_count": null,
   "id": "4f4b47f0",
   "metadata": {},
   "outputs": [],
   "source": []
  },
  {
   "cell_type": "markdown",
   "id": "996c54ff",
   "metadata": {},
   "source": [
    "# Checking for ratings distribution"
   ]
  },
  {
   "cell_type": "code",
   "execution_count": 22,
   "id": "c34bdaca",
   "metadata": {},
   "outputs": [
    {
     "data": {
      "image/png": "[encoded data removed]",
      "text/plain": [
       "<Figure size 640x480 with 1 Axes>"
      ]
     },
     "metadata": {},
     "output_type": "display_data"
    }
   ],
   "source": [
    "\n",
    "\n",
    "# Count the occurrences of each rating value\n",
    "rating_counts = df['bookrating'].value_counts()\n",
    "\n",
    "# Sort the ratings in ascending order for better visualization\n",
    "rating_counts_sorted = rating_counts.sort_index()\n",
    "\n",
    "# Create the bar chart\n",
    "plt.bar(rating_counts_sorted.index, rating_counts_sorted.values)\n",
    "\n",
    "# Set labels and title\n",
    "plt.xlabel('Rating')\n",
    "plt.ylabel('Count')\n",
    "plt.title('Distribution of Ratings')\n",
    "\n",
    "# Show the plot\n",
    "plt.show()\n"
   ]
  },
  {
   "cell_type": "code",
   "execution_count": null,
   "id": "ad0acbcf",
   "metadata": {},
   "outputs": [],
   "source": []
  },
  {
   "cell_type": "code",
   "execution_count": null,
   "id": "fc2460f9",
   "metadata": {},
   "outputs": [],
   "source": []
  },
  {
   "cell_type": "markdown",
   "id": "88fa5169",
   "metadata": {},
   "source": [
    "# get the top N most rated books and their corresponding total ratings "
   ]
  },
  {
   "cell_type": "code",
   "execution_count": 24,
   "id": "27b92cb7",
   "metadata": {},
   "outputs": [
    {
     "data": {
      "text/html": [
       "<div>\n",
       "<style scoped>\n",
       "    .dataframe tbody tr th:only-of-type {\n",
       "        vertical-align: middle;\n",
       "    }\n",
       "\n",
       "    .dataframe tbody tr th {\n",
       "        vertical-align: top;\n",
       "    }\n",
       "\n",
       "    .dataframe thead th {\n",
       "        text-align: right;\n",
       "    }\n",
       "</style>\n",
       "<table border=\"1\" class=\"dataframe\">\n",
       "  <thead>\n",
       "    <tr style=\"text-align: right;\">\n",
       "      <th></th>\n",
       "      <th>book_id</th>\n",
       "      <th>total_ratings</th>\n",
       "    </tr>\n",
       "  </thead>\n",
       "  <tbody>\n",
       "    <tr>\n",
       "      <th>215931</th>\n",
       "      <td>0971880107</td>\n",
       "      <td>2501</td>\n",
       "    </tr>\n",
       "    <tr>\n",
       "      <th>38570</th>\n",
       "      <td>0316666343</td>\n",
       "      <td>1295</td>\n",
       "    </tr>\n",
       "    <tr>\n",
       "      <th>70797</th>\n",
       "      <td>0385504209</td>\n",
       "      <td>883</td>\n",
       "    </tr>\n",
       "    <tr>\n",
       "      <th>7344</th>\n",
       "      <td>0060928336</td>\n",
       "      <td>732</td>\n",
       "    </tr>\n",
       "    <tr>\n",
       "      <th>32370</th>\n",
       "      <td>0312195516</td>\n",
       "      <td>723</td>\n",
       "    </tr>\n",
       "    <tr>\n",
       "      <th>87394</th>\n",
       "      <td>044023722X</td>\n",
       "      <td>647</td>\n",
       "    </tr>\n",
       "    <tr>\n",
       "      <th>21342</th>\n",
       "      <td>0142001740</td>\n",
       "      <td>615</td>\n",
       "    </tr>\n",
       "    <tr>\n",
       "      <th>145037</th>\n",
       "      <td>067976402X</td>\n",
       "      <td>613</td>\n",
       "    </tr>\n",
       "    <tr>\n",
       "      <th>133137</th>\n",
       "      <td>0671027360</td>\n",
       "      <td>585</td>\n",
       "    </tr>\n",
       "    <tr>\n",
       "      <th>93844</th>\n",
       "      <td>0446672211</td>\n",
       "      <td>585</td>\n",
       "    </tr>\n",
       "  </tbody>\n",
       "</table>\n",
       "</div>"
      ],
      "text/plain": [
       "           book_id  total_ratings\n",
       "215931  0971880107           2501\n",
       "38570   0316666343           1295\n",
       "70797   0385504209            883\n",
       "7344    0060928336            732\n",
       "32370   0312195516            723\n",
       "87394   044023722X            647\n",
       "21342   0142001740            615\n",
       "145037  067976402X            613\n",
       "133137  0671027360            585\n",
       "93844   0446672211            585"
      ]
     },
     "execution_count": 24,
     "metadata": {},
     "output_type": "execute_result"
    }
   ],
   "source": [
    "\n",
    "\n",
    "# Group by 'bookid' and calculate the total ratings for each book\n",
    "book_ratings_count = df.groupby('book_id')['bookrating'].count().reset_index()\n",
    "book_ratings_count.columns = ['book_id', 'total_ratings']\n",
    "\n",
    "\n",
    "N = 10\n",
    "# Sort the DataFrame in descending order based on 'total_ratings'\n",
    "top_n_most_rated_books = book_ratings_count.sort_values(by='total_ratings', ascending=False).head(N)\n",
    "\n",
    "# Print the DataFrame\n",
    "top_n_most_rated_books\n"
   ]
  },
  {
   "cell_type": "code",
   "execution_count": null,
   "id": "751047e7",
   "metadata": {},
   "outputs": [],
   "source": []
  },
  {
   "cell_type": "code",
   "execution_count": null,
   "id": "788dfbce",
   "metadata": {},
   "outputs": [],
   "source": []
  },
  {
   "cell_type": "code",
   "execution_count": null,
   "id": "cba92eb2",
   "metadata": {},
   "outputs": [],
   "source": []
  },
  {
   "cell_type": "markdown",
   "id": "ed9ed93d",
   "metadata": {},
   "source": [
    "# filter the popular books that has N ratings counts to reduce the data size for fast processing time "
   ]
  },
  {
   "cell_type": "code",
   "execution_count": 64,
   "id": "5d99723f",
   "metadata": {},
   "outputs": [
    {
     "data": {
      "text/html": [
       "<div>\n",
       "<style scoped>\n",
       "    .dataframe tbody tr th:only-of-type {\n",
       "        vertical-align: middle;\n",
       "    }\n",
       "\n",
       "    .dataframe tbody tr th {\n",
       "        vertical-align: top;\n",
       "    }\n",
       "\n",
       "    .dataframe thead th {\n",
       "        text-align: right;\n",
       "    }\n",
       "</style>\n",
       "<table border=\"1\" class=\"dataframe\">\n",
       "  <thead>\n",
       "    <tr style=\"text-align: right;\">\n",
       "      <th></th>\n",
       "      <th>user_id</th>\n",
       "      <th>book_id</th>\n",
       "      <th>bookrating</th>\n",
       "      <th>booktittle</th>\n",
       "      <th>book_author</th>\n",
       "      <th>year_of_pub</th>\n",
       "      <th>total_ratings</th>\n",
       "    </tr>\n",
       "  </thead>\n",
       "  <tbody>\n",
       "    <tr>\n",
       "      <th>0</th>\n",
       "      <td>276925</td>\n",
       "      <td>0316666343</td>\n",
       "      <td>0</td>\n",
       "      <td>The Lovely Bones: A Novel</td>\n",
       "      <td>Alice Sebold</td>\n",
       "      <td>2002</td>\n",
       "      <td>1295</td>\n",
       "    </tr>\n",
       "    <tr>\n",
       "      <th>1</th>\n",
       "      <td>277195</td>\n",
       "      <td>0316666343</td>\n",
       "      <td>0</td>\n",
       "      <td>The Lovely Bones: A Novel</td>\n",
       "      <td>Alice Sebold</td>\n",
       "      <td>2002</td>\n",
       "      <td>1295</td>\n",
       "    </tr>\n",
       "    <tr>\n",
       "      <th>2</th>\n",
       "      <td>277413</td>\n",
       "      <td>0316666343</td>\n",
       "      <td>0</td>\n",
       "      <td>The Lovely Bones: A Novel</td>\n",
       "      <td>Alice Sebold</td>\n",
       "      <td>2002</td>\n",
       "      <td>1295</td>\n",
       "    </tr>\n",
       "    <tr>\n",
       "      <th>3</th>\n",
       "      <td>277427</td>\n",
       "      <td>0316666343</td>\n",
       "      <td>0</td>\n",
       "      <td>The Lovely Bones: A Novel</td>\n",
       "      <td>Alice Sebold</td>\n",
       "      <td>2002</td>\n",
       "      <td>1295</td>\n",
       "    </tr>\n",
       "    <tr>\n",
       "      <th>4</th>\n",
       "      <td>277439</td>\n",
       "      <td>0316666343</td>\n",
       "      <td>7</td>\n",
       "      <td>The Lovely Bones: A Novel</td>\n",
       "      <td>Alice Sebold</td>\n",
       "      <td>2002</td>\n",
       "      <td>1295</td>\n",
       "    </tr>\n",
       "  </tbody>\n",
       "</table>\n",
       "</div>"
      ],
      "text/plain": [
       "   user_id     book_id  bookrating                 booktittle   book_author  \\\n",
       "0   276925  0316666343           0  The Lovely Bones: A Novel  Alice Sebold   \n",
       "1   277195  0316666343           0  The Lovely Bones: A Novel  Alice Sebold   \n",
       "2   277413  0316666343           0  The Lovely Bones: A Novel  Alice Sebold   \n",
       "3   277427  0316666343           0  The Lovely Bones: A Novel  Alice Sebold   \n",
       "4   277439  0316666343           7  The Lovely Bones: A Novel  Alice Sebold   \n",
       "\n",
       "   year_of_pub  total_ratings  \n",
       "0         2002           1295  \n",
       "1         2002           1295  \n",
       "2         2002           1295  \n",
       "3         2002           1295  \n",
       "4         2002           1295  "
      ]
     },
     "execution_count": 64,
     "metadata": {},
     "output_type": "execute_result"
    }
   ],
   "source": [
    "import pandas as pd\n",
    "\n",
    "\n",
    "# Define the number of total ratings you want to filter on\n",
    "N = 400\n",
    "\n",
    "# Group by 'bookid' and calculate the total ratings for each book\n",
    "book_ratings_count = df.groupby('book_id')['bookrating'].count().reset_index()\n",
    "book_ratings_count.columns = ['book_id', 'total_ratings']\n",
    "\n",
    "# Filter the DataFrame to include only book IDs with total ratings equal to N\n",
    "top_n_rated_books_with_N_ratings = book_ratings_count[book_ratings_count['total_ratings'] >= N]\n",
    "\n",
    "# Merge with the original DataFrame to get the complete rows of popular books\n",
    "books_pop = pd.merge(df, top_n_rated_books_with_N_ratings, on='book_id', how='inner')\n",
    "\n",
    "# Print the DataFrame\n",
    "books_pop.head()\n"
   ]
  },
  {
   "cell_type": "code",
   "execution_count": null,
   "id": "84c3b73a",
   "metadata": {},
   "outputs": [],
   "source": []
  },
  {
   "cell_type": "code",
   "execution_count": 65,
   "id": "1482ffb1",
   "metadata": {},
   "outputs": [
    {
     "data": {
      "text/plain": [
       "(22854, 7)"
      ]
     },
     "execution_count": 65,
     "metadata": {},
     "output_type": "execute_result"
    }
   ],
   "source": [
    "books_pop.shape"
   ]
  },
  {
   "cell_type": "markdown",
   "id": "26ebf08f",
   "metadata": {},
   "source": [
    "# save the dataframe of the popular books"
   ]
  },
  {
   "cell_type": "code",
   "execution_count": 66,
   "id": "69b392c7",
   "metadata": {},
   "outputs": [],
   "source": [
    "books_pop.to_csv('Book_ratingC>400.csv', index=False)"
   ]
  },
  {
   "cell_type": "code",
   "execution_count": null,
   "id": "8d939345",
   "metadata": {},
   "outputs": [],
   "source": []
  }
 ],
 "metadata": {
  "kernelspec": {
   "display_name": "Python 3 (ipykernel)",
   "language": "python",
   "name": "python3"
  },
  "language_info": {
   "codemirror_mode": {
    "name": "ipython",
    "version": 3
   },
   "file_extension": ".py",
   "mimetype": "text/x-python",
   "name": "python",
   "nbconvert_exporter": "python",
   "pygments_lexer": "ipython3",
   "version": "3.11.3"
  }
 },
 "nbformat": 4,
 "nbformat_minor": 5
}
