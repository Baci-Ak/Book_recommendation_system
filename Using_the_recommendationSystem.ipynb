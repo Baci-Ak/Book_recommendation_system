{
 "cells": [
  {
   "cell_type": "code",
   "execution_count": null,
   "id": "d065b12e",
   "metadata": {},
   "outputs": [],
   "source": []
  },
  {
   "cell_type": "code",
   "execution_count": 1,
   "id": "ffd789e5",
   "metadata": {},
   "outputs": [
    {
     "data": {
      "text/html": [
       "<div>\n",
       "<style scoped>\n",
       "    .dataframe tbody tr th:only-of-type {\n",
       "        vertical-align: middle;\n",
       "    }\n",
       "\n",
       "    .dataframe tbody tr th {\n",
       "        vertical-align: top;\n",
       "    }\n",
       "\n",
       "    .dataframe thead th {\n",
       "        text-align: right;\n",
       "    }\n",
       "</style>\n",
       "<table border=\"1\" class=\"dataframe\">\n",
       "  <thead>\n",
       "    <tr style=\"text-align: right;\">\n",
       "      <th></th>\n",
       "      <th>user_id</th>\n",
       "      <th>book_id</th>\n",
       "      <th>bookrating</th>\n",
       "      <th>booktittle</th>\n",
       "      <th>book_author</th>\n",
       "      <th>year_of_pub</th>\n",
       "      <th>total_ratings</th>\n",
       "    </tr>\n",
       "  </thead>\n",
       "  <tbody>\n",
       "    <tr>\n",
       "      <th>0</th>\n",
       "      <td>276925</td>\n",
       "      <td>0316666343</td>\n",
       "      <td>0</td>\n",
       "      <td>The Lovely Bones: A Novel</td>\n",
       "      <td>Alice Sebold</td>\n",
       "      <td>2002</td>\n",
       "      <td>1295</td>\n",
       "    </tr>\n",
       "    <tr>\n",
       "      <th>1</th>\n",
       "      <td>277195</td>\n",
       "      <td>0316666343</td>\n",
       "      <td>0</td>\n",
       "      <td>The Lovely Bones: A Novel</td>\n",
       "      <td>Alice Sebold</td>\n",
       "      <td>2002</td>\n",
       "      <td>1295</td>\n",
       "    </tr>\n",
       "    <tr>\n",
       "      <th>2</th>\n",
       "      <td>277413</td>\n",
       "      <td>0316666343</td>\n",
       "      <td>0</td>\n",
       "      <td>The Lovely Bones: A Novel</td>\n",
       "      <td>Alice Sebold</td>\n",
       "      <td>2002</td>\n",
       "      <td>1295</td>\n",
       "    </tr>\n",
       "    <tr>\n",
       "      <th>3</th>\n",
       "      <td>277427</td>\n",
       "      <td>0316666343</td>\n",
       "      <td>0</td>\n",
       "      <td>The Lovely Bones: A Novel</td>\n",
       "      <td>Alice Sebold</td>\n",
       "      <td>2002</td>\n",
       "      <td>1295</td>\n",
       "    </tr>\n",
       "    <tr>\n",
       "      <th>4</th>\n",
       "      <td>277439</td>\n",
       "      <td>0316666343</td>\n",
       "      <td>7</td>\n",
       "      <td>The Lovely Bones: A Novel</td>\n",
       "      <td>Alice Sebold</td>\n",
       "      <td>2002</td>\n",
       "      <td>1295</td>\n",
       "    </tr>\n",
       "  </tbody>\n",
       "</table>\n",
       "</div>"
      ],
      "text/plain": [
       "   user_id     book_id  bookrating                 booktittle   book_author  \\\n",
       "0   276925  0316666343           0  The Lovely Bones: A Novel  Alice Sebold   \n",
       "1   277195  0316666343           0  The Lovely Bones: A Novel  Alice Sebold   \n",
       "2   277413  0316666343           0  The Lovely Bones: A Novel  Alice Sebold   \n",
       "3   277427  0316666343           0  The Lovely Bones: A Novel  Alice Sebold   \n",
       "4   277439  0316666343           7  The Lovely Bones: A Novel  Alice Sebold   \n",
       "\n",
       "   year_of_pub  total_ratings  \n",
       "0         2002           1295  \n",
       "1         2002           1295  \n",
       "2         2002           1295  \n",
       "3         2002           1295  \n",
       "4         2002           1295  "
      ]
     },
     "execution_count": 1,
     "metadata": {},
     "output_type": "execute_result"
    }
   ],
   "source": [
    "#i import pandas for data anlysis and manipulations\n",
    "import pandas as pd\n",
    "\n",
    "\n",
    "df = pd.read_csv(\"Book_ratingC>400.csv\")\n",
    "df.head()"
   ]
  },
  {
   "cell_type": "code",
   "execution_count": null,
   "id": "56a7bbe4",
   "metadata": {},
   "outputs": [],
   "source": []
  },
  {
   "cell_type": "code",
   "execution_count": 4,
   "id": "3b9187ba",
   "metadata": {},
   "outputs": [],
   "source": [
    "from book_recommendation_engine import recommendersystem\n",
    "from test_module import main\n"
   ]
  },
  {
   "cell_type": "code",
   "execution_count": 5,
   "id": "a78f2de9",
   "metadata": {},
   "outputs": [
    {
     "name": "stdout",
     "output_type": "stream",
     "text": [
      "\n",
      "Enter 1 for similarity between two users, 2 for similarity between a user and nth users, 3 for recommendation to a target user, and 4 for evaluating the metrices : 2\n",
      "please enter a userID of the target user to compute the similarity between the nth users : 277427\n",
      "Number of similar users : 20\n",
      "\\Availabele similarity metrices to use and find n similar users to a target user are :\n",
      "1: cosine\n",
      "2: pearson\n",
      "3: minkowski\n",
      "4: spearman\n",
      "\n",
      "please only choose a digit that represents your choice of metric\n",
      "enter the similarity matric to use and find similarity blw the user and 20 other users1\n",
      "\n",
      "the similarity between 277427 & 20 top users using cosine similarity metric are : \n",
      "\n",
      "\n",
      "[276925, 7283, 48046, 49422, 55027, 93629, 111578, 114868, 170513, 179772, 194669, 218068, 227705, 229742, 231857, 235498, 236172, 237748, 244189, 254377]\n"
     ]
    }
   ],
   "source": [
    "main(df)"
   ]
  },
  {
   "cell_type": "code",
   "execution_count": null,
   "id": "701df58c",
   "metadata": {},
   "outputs": [],
   "source": []
  }
 ],
 "metadata": {
  "kernelspec": {
   "display_name": "Python 3 (ipykernel)",
   "language": "python",
   "name": "python3"
  },
  "language_info": {
   "codemirror_mode": {
    "name": "ipython",
    "version": 3
   },
   "file_extension": ".py",
   "mimetype": "text/x-python",
   "name": "python",
   "nbconvert_exporter": "python",
   "pygments_lexer": "ipython3",
   "version": "3.11.3"
  }
 },
 "nbformat": 4,
 "nbformat_minor": 5
}
